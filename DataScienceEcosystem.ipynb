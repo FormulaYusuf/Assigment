{
 "cells": [
  {
   "cell_type": "markdown",
   "id": "ada87306",
   "metadata": {},
   "source": [
    "# Data Science Tools and Ecosystem"
   ]
  },
  {
   "cell_type": "markdown",
   "id": "0e17d209",
   "metadata": {},
   "source": [
    "In this notebook, Data Science Tools and Ecosystem are summarized."
   ]
  },
  {
   "cell_type": "markdown",
   "id": "fbc82b86",
   "metadata": {},
   "source": [
    "**Objectives:**\n",
    "- List Popular Languages for Data Science\n",
    "- List Commonly Used Library by Data Scientists\n",
    "- Arithmetic Expressions"
   ]
  },
  {
   "cell_type": "markdown",
   "id": "c50af26a",
   "metadata": {},
   "source": [
    "Some of the popular languages that Data Scientists use are:</br>\n",
    "1. Python\n",
    "2. SQL \n",
    "3. R"
   ]
  },
  {
   "cell_type": "markdown",
   "id": "086d9bf9",
   "metadata": {},
   "source": [
    "Some of the commonly used libraries used by Data Scientists include:</br>\n",
    "1. Pandas\n",
    "2. Scikit\n",
    "3. Matplotlib\n",
    "    "
   ]
  },
  {
   "cell_type": "markdown",
   "id": "8cc9b5e6",
   "metadata": {},
   "source": [
    "|Data Science Tools|\n",
    "|------------------|\n",
    "|Julia|\n",
    "|Scala|\n",
    "|Java|"
   ]
  },
  {
   "cell_type": "markdown",
   "id": "01e46dc6",
   "metadata": {},
   "source": [
    "### Below are a few examples of evaluating arithmetic expressions in Python"
   ]
  },
  {
   "cell_type": "markdown",
   "id": "967312f7",
   "metadata": {},
   "source": [
    "This a simple arithmetic expression to mutiply then add integers"
   ]
  },
  {
   "cell_type": "code",
   "execution_count": 4,
   "id": "2d654a24",
   "metadata": {},
   "outputs": [
    {
     "data": {
      "text/plain": [
       "17"
      ]
     },
     "execution_count": 4,
     "metadata": {},
     "output_type": "execute_result"
    }
   ],
   "source": [
    "(3*4)+5"
   ]
  },
  {
   "cell_type": "markdown",
   "id": "6c0eff51",
   "metadata": {},
   "source": [
    "This will convert 200 minutes to hours by diving by 60"
   ]
  },
  {
   "cell_type": "code",
   "execution_count": 13,
   "id": "c3768a6f",
   "metadata": {},
   "outputs": [
    {
     "data": {
      "text/plain": [
       "3"
      ]
     },
     "execution_count": 13,
     "metadata": {},
     "output_type": "execute_result"
    }
   ],
   "source": [
    "200//60"
   ]
  },
  {
   "cell_type": "markdown",
   "id": "eb495bfb",
   "metadata": {},
   "source": [
    "## Author"
   ]
  },
  {
   "cell_type": "markdown",
   "id": "4fd911f2",
   "metadata": {},
   "source": [
    "Yusuf Muhammad (Bruno Rospigliosi)"
   ]
  },
  {
   "cell_type": "code",
   "execution_count": null,
   "id": "a013db52",
   "metadata": {},
   "outputs": [],
   "source": []
  }
 ],
 "metadata": {
  "kernelspec": {
   "display_name": "Python 3 (ipykernel)",
   "language": "python",
   "name": "python3"
  },
  "language_info": {
   "codemirror_mode": {
    "name": "ipython",
    "version": 3
   },
   "file_extension": ".py",
   "mimetype": "text/x-python",
   "name": "python",
   "nbconvert_exporter": "python",
   "pygments_lexer": "ipython3",
   "version": "3.10.9"
  }
 },
 "nbformat": 4,
 "nbformat_minor": 5
}
